{
  "nbformat": 4,
  "nbformat_minor": 0,
  "metadata": {
    "colab": {
      "provenance": [],
      "toc_visible": true,
      "authorship_tag": "ABX9TyPmitlNCYHR8KwL6IeLcvgx",
      "include_colab_link": true
    },
    "kernelspec": {
      "name": "python3",
      "display_name": "Python 3"
    },
    "language_info": {
      "name": "python"
    }
  },
  "cells": [
    {
      "cell_type": "markdown",
      "metadata": {
        "id": "view-in-github",
        "colab_type": "text"
      },
      "source": [
        "<a href=\"https://colab.research.google.com/github/hmalherbe/knn/blob/main/knn.ipynb\" target=\"_parent\"><img src=\"https://colab.research.google.com/assets/colab-badge.svg\" alt=\"Open In Colab\"/></a>"
      ]
    },
    {
      "cell_type": "markdown",
      "source": [
        "# ALGORITHME DES K PLUS PROCHES VOISINS"
      ],
      "metadata": {
        "id": "ut00Fetmsdnf"
      }
    },
    {
      "cell_type": "markdown",
      "source": [],
      "metadata": {
        "id": "kJpdgb2LsWXj"
      }
    },
    {
      "cell_type": "markdown",
      "source": [
        "## L'algorithme des k plus proches voisins est un algorithme dit d’apprentissage automatique qui permet à un programme d’apprendre à classer des « objets » en utilisant un jeu de données pour qu’il y trouve des similarités. Il s’agit d’un algorithme simple de « machine learning » un sujet très en vogue à l’heure actuelle dans le domaine de l’informatique."
      ],
      "metadata": {
        "id": "hISYQLprfr_q"
      }
    },
    {
      "cell_type": "markdown",
      "source": [
        "![image.png](data:image/png;base64,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)"
      ],
      "metadata": {
        "id": "s-v2rj1it9sC"
      }
    },
    {
      "cell_type": "markdown",
      "source": [
        "Comment classer le point vert ? Si k = 3 (cercle en ligne pleine) il est classé comme un triangle car il y a deux triangles et seulement un carré dans le cercle considéré. Si k = 5 (cercle en ligne pointillée) il est classé comme un carré (3 carrés face à deux triangles dans le cercle externe)."
      ],
      "metadata": {
        "id": "YlRk44PVuEGr"
      }
    }
  ]
}